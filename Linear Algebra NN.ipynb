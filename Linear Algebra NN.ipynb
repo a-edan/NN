{
 "cells": [
  {
   "cell_type": "code",
   "execution_count": 1,
   "id": "ff530058",
   "metadata": {},
   "outputs": [],
   "source": [
    "import numpy as np\n",
    "import pandas as pd\n",
    "from matplotlib import pyplot as plt\n"
   ]
  },
  {
   "cell_type": "markdown",
   "id": "05d625e5",
   "metadata": {},
   "source": [
    "## Theoretical introduction"
   ]
  },
  {
   "cell_type": "markdown",
   "id": "4edeb394",
   "metadata": {},
   "source": [
    "A neural network is a group of nodes distributed in layers and interconected through weights. The maths behind neural netowrks are similar to linear regression. One layer is the result of multiplying the previous one for a weight and adding a bias. We could say that a layer is the prediction of a linear regression that uses a slope (weight) and intercept (bias). Those parameters will improve through a number of iterations to decrease the prediction error of the network. \n",
    "\n",
    "Since the neural networks are systems of linear regressions, our layers would simply be linear combinations of the previous layers. This is a problem we can overcome by applying activation functions in between the layers. This is key to develop models that capture more complex features, not simple linear relationships. \n",
    "\n",
    "Each input is processed by each neuron  by multiplying the input and a weight. Then everything is added up, plus a bias parameter, and sent to the activation function. This process is repeated for every single layer untill we get the output.\n",
    "\n",
    "After that, we calculate the loss. The loss will give us information about how the weights should change. This information will help modify the weights in order to perform better at the next iteration. A deep network is one with two or more hidden layers. "
   ]
  },
  {
   "cell_type": "markdown",
   "id": "746f9148",
   "metadata": {},
   "source": [
    "28x28 pixel images, 784 inputs each with a value between 0 (pitch black) a nd 255 (white pearl). Overall, each image is nothing but a vector of length 784 and we have m images. Therefore, we could have a 784xm matrix (each colum being an example).\n",
    "\n",
    "We are going to build a network sith a single hidden layer. The input layer is going to have 784 nodes. The hidden layer with 10 units. The output layer is going to have 10 layers as well. We will apply this architecture to the MINST dataset to develop a number classification algorithm."
   ]
  },
  {
   "cell_type": "markdown",
   "id": "e0bf9561",
   "metadata": {},
   "source": [
    "Forward propagation:\n",
    "\n",
    "We process an image with the network and compute the output. It goes from A[0] (input layer) to Z[1] (the unactivated hidden layer).\n",
    "\n",
    "        Z[1] =  w[1]  *  A[0]  +  b[1]\n",
    "                 ^                 ^\n",
    "              weights             bias\n",
    "             \n",
    "        10xm   10x784    784xm    10x1\n",
    "             \n",
    "We are going to compute de dot product between the weight matrix and our input. After that, we apply an actication function to the hidden layer Z[1]. If we did not, each node would be a linear combination of the nodes in the previous layer plus a bias. It would just be some linear regression unable to capture the features. With activation functions we allow our model to become more complex.\n",
    "        \n",
    "Some comon activation functions:\n",
    "\n",
    "    * Tanh\n",
    "    * Sigmoid\n",
    "    * ReLU (rectified linear unit) [x if x > 0 else 0]\n",
    "    \n",
    "We are going to use ReLu as our activation function. Therefore:\n",
    "\n",
    "        A[1] = g(Z[1]) = ReLU(Z[1]) = ReLU(w[1] * A[0] + b[1])\n",
    "        \n",
    "A[1] is the input of or output layer Z[2] (or the activated z[1] layer)\n",
    "\n",
    "        Z[2] = w[2] * A[1] + b[2]\n",
    "        \n",
    "        10xm  10x10  10xm   10x1\n",
    "\n",
    "A[2] is our output \n",
    "\n",
    "        A[2] = softmax(Z[2])\n",
    "\n",
    "Softmax is another activation function that turns our output layer into probabilities. The idea is that out 10 nodes in the output layer represents a label that is associated with the probability of being the correct one. How it works? The exponential of each node is divided by the sum of all the exponential nodes. This is basically an extension of conditional probabilities. "
   ]
  },
  {
   "cell_type": "markdown",
   "id": "822376a9",
   "metadata": {},
   "source": [
    "Backpropagation:\n",
    "\n",
    "Our predictions are based on both the weights and biases. We need to find the optimal weights and biases to make the predictions more accurate. To do so, we will use backpropagatiion.\n",
    "\n",
    "The loss function will give us information about how wrong our output was. Then we go backwards to see how much the weights and biases contributed to the error.\n",
    "\n",
    "dZ[2] is the error of the output layer. It is the diference between our predictions and the actual labels.\n",
    "\n",
    "         dZ[2] = A[2] - Y\n",
    "         \n",
    "                Y is an one-hot encoded form of the label. For example 4 would be [0,0,0,0,1,0,0,0,0,0]'\n",
    "\n",
    "         dW[2] = 1/m * dZ[2] * A'[1]             \n",
    "         \n",
    "                 Derivative of the loss function with respect to the weights in layer 2\n",
    "         \n",
    "         db[2] = 1/m * sum(dZ[2])                 \n",
    "         \n",
    "                 Average of the absolute error for the second layer. How much should we tweak our                                                   weights and biases?\n",
    "         \n",
    "         dZ[1] = W'[2] * dZ[2] * g'(Z[2])        \n",
    "         \n",
    "                 How much error was produced in layer 1. This is basically the reverse path.                                                         Instead of defining the layer 2 as its weights multiplied by the layer 1, the                                                       error in layer 1 is the transposed weights of the second layer multiplied by the                                                   error in layer 2. We apply the weights in reverse to get the error. g' is the                                                       derivative of the activation function. We are reverting it in order to turn our                                                     nodes back into linear  combinations of the nodes in the previous layer.\n",
    "         \n",
    "         db[2] = 1/m * sum(dZ[1])                \n",
    "         \n",
    "                 Average of the absolute error for the first layer.\n",
    "         \n",
    "After finding how much did our parameters contribute to the error, we have to update them in order to improve our predictive capabilities. To do so, we substarct from each weight and bias alpha times its error. Alpha is a learning rate. It is a hyperparameter that moderates how drastic the changes in our weigths and biases will be. A higher alpha implies a higher change between iterations (not so great when you have a fairly accurate model and want to fine tune it)."
   ]
  },
  {
   "cell_type": "markdown",
   "id": "6c299961",
   "metadata": {},
   "source": [
    "## Load data"
   ]
  },
  {
   "cell_type": "code",
   "execution_count": 144,
   "id": "2575599d",
   "metadata": {},
   "outputs": [],
   "source": [
    "data = pd.read_csv('data/train.csv')"
   ]
  },
  {
   "cell_type": "code",
   "execution_count": 145,
   "id": "0d5ea77f",
   "metadata": {},
   "outputs": [
    {
     "data": {
      "text/html": [
       "<div>\n",
       "<style scoped>\n",
       "    .dataframe tbody tr th:only-of-type {\n",
       "        vertical-align: middle;\n",
       "    }\n",
       "\n",
       "    .dataframe tbody tr th {\n",
       "        vertical-align: top;\n",
       "    }\n",
       "\n",
       "    .dataframe thead th {\n",
       "        text-align: right;\n",
       "    }\n",
       "</style>\n",
       "<table border=\"1\" class=\"dataframe\">\n",
       "  <thead>\n",
       "    <tr style=\"text-align: right;\">\n",
       "      <th></th>\n",
       "      <th>label</th>\n",
       "      <th>pixel0</th>\n",
       "      <th>pixel1</th>\n",
       "      <th>pixel2</th>\n",
       "      <th>pixel3</th>\n",
       "      <th>pixel4</th>\n",
       "      <th>pixel5</th>\n",
       "      <th>pixel6</th>\n",
       "      <th>pixel7</th>\n",
       "      <th>pixel8</th>\n",
       "      <th>...</th>\n",
       "      <th>pixel774</th>\n",
       "      <th>pixel775</th>\n",
       "      <th>pixel776</th>\n",
       "      <th>pixel777</th>\n",
       "      <th>pixel778</th>\n",
       "      <th>pixel779</th>\n",
       "      <th>pixel780</th>\n",
       "      <th>pixel781</th>\n",
       "      <th>pixel782</th>\n",
       "      <th>pixel783</th>\n",
       "    </tr>\n",
       "  </thead>\n",
       "  <tbody>\n",
       "    <tr>\n",
       "      <th>0</th>\n",
       "      <td>1</td>\n",
       "      <td>0</td>\n",
       "      <td>0</td>\n",
       "      <td>0</td>\n",
       "      <td>0</td>\n",
       "      <td>0</td>\n",
       "      <td>0</td>\n",
       "      <td>0</td>\n",
       "      <td>0</td>\n",
       "      <td>0</td>\n",
       "      <td>...</td>\n",
       "      <td>0</td>\n",
       "      <td>0</td>\n",
       "      <td>0</td>\n",
       "      <td>0</td>\n",
       "      <td>0</td>\n",
       "      <td>0</td>\n",
       "      <td>0</td>\n",
       "      <td>0</td>\n",
       "      <td>0</td>\n",
       "      <td>0</td>\n",
       "    </tr>\n",
       "    <tr>\n",
       "      <th>1</th>\n",
       "      <td>0</td>\n",
       "      <td>0</td>\n",
       "      <td>0</td>\n",
       "      <td>0</td>\n",
       "      <td>0</td>\n",
       "      <td>0</td>\n",
       "      <td>0</td>\n",
       "      <td>0</td>\n",
       "      <td>0</td>\n",
       "      <td>0</td>\n",
       "      <td>...</td>\n",
       "      <td>0</td>\n",
       "      <td>0</td>\n",
       "      <td>0</td>\n",
       "      <td>0</td>\n",
       "      <td>0</td>\n",
       "      <td>0</td>\n",
       "      <td>0</td>\n",
       "      <td>0</td>\n",
       "      <td>0</td>\n",
       "      <td>0</td>\n",
       "    </tr>\n",
       "    <tr>\n",
       "      <th>2</th>\n",
       "      <td>1</td>\n",
       "      <td>0</td>\n",
       "      <td>0</td>\n",
       "      <td>0</td>\n",
       "      <td>0</td>\n",
       "      <td>0</td>\n",
       "      <td>0</td>\n",
       "      <td>0</td>\n",
       "      <td>0</td>\n",
       "      <td>0</td>\n",
       "      <td>...</td>\n",
       "      <td>0</td>\n",
       "      <td>0</td>\n",
       "      <td>0</td>\n",
       "      <td>0</td>\n",
       "      <td>0</td>\n",
       "      <td>0</td>\n",
       "      <td>0</td>\n",
       "      <td>0</td>\n",
       "      <td>0</td>\n",
       "      <td>0</td>\n",
       "    </tr>\n",
       "    <tr>\n",
       "      <th>3</th>\n",
       "      <td>4</td>\n",
       "      <td>0</td>\n",
       "      <td>0</td>\n",
       "      <td>0</td>\n",
       "      <td>0</td>\n",
       "      <td>0</td>\n",
       "      <td>0</td>\n",
       "      <td>0</td>\n",
       "      <td>0</td>\n",
       "      <td>0</td>\n",
       "      <td>...</td>\n",
       "      <td>0</td>\n",
       "      <td>0</td>\n",
       "      <td>0</td>\n",
       "      <td>0</td>\n",
       "      <td>0</td>\n",
       "      <td>0</td>\n",
       "      <td>0</td>\n",
       "      <td>0</td>\n",
       "      <td>0</td>\n",
       "      <td>0</td>\n",
       "    </tr>\n",
       "    <tr>\n",
       "      <th>4</th>\n",
       "      <td>0</td>\n",
       "      <td>0</td>\n",
       "      <td>0</td>\n",
       "      <td>0</td>\n",
       "      <td>0</td>\n",
       "      <td>0</td>\n",
       "      <td>0</td>\n",
       "      <td>0</td>\n",
       "      <td>0</td>\n",
       "      <td>0</td>\n",
       "      <td>...</td>\n",
       "      <td>0</td>\n",
       "      <td>0</td>\n",
       "      <td>0</td>\n",
       "      <td>0</td>\n",
       "      <td>0</td>\n",
       "      <td>0</td>\n",
       "      <td>0</td>\n",
       "      <td>0</td>\n",
       "      <td>0</td>\n",
       "      <td>0</td>\n",
       "    </tr>\n",
       "  </tbody>\n",
       "</table>\n",
       "<p>5 rows × 785 columns</p>\n",
       "</div>"
      ],
      "text/plain": [
       "   label  pixel0  pixel1  pixel2  pixel3  pixel4  pixel5  pixel6  pixel7  \\\n",
       "0      1       0       0       0       0       0       0       0       0   \n",
       "1      0       0       0       0       0       0       0       0       0   \n",
       "2      1       0       0       0       0       0       0       0       0   \n",
       "3      4       0       0       0       0       0       0       0       0   \n",
       "4      0       0       0       0       0       0       0       0       0   \n",
       "\n",
       "   pixel8  ...  pixel774  pixel775  pixel776  pixel777  pixel778  pixel779  \\\n",
       "0       0  ...         0         0         0         0         0         0   \n",
       "1       0  ...         0         0         0         0         0         0   \n",
       "2       0  ...         0         0         0         0         0         0   \n",
       "3       0  ...         0         0         0         0         0         0   \n",
       "4       0  ...         0         0         0         0         0         0   \n",
       "\n",
       "   pixel780  pixel781  pixel782  pixel783  \n",
       "0         0         0         0         0  \n",
       "1         0         0         0         0  \n",
       "2         0         0         0         0  \n",
       "3         0         0         0         0  \n",
       "4         0         0         0         0  \n",
       "\n",
       "[5 rows x 785 columns]"
      ]
     },
     "execution_count": 145,
     "metadata": {},
     "output_type": "execute_result"
    }
   ],
   "source": [
    "data.head()"
   ]
  },
  {
   "cell_type": "markdown",
   "id": "1a713127",
   "metadata": {},
   "source": [
    "## Train and Test sets"
   ]
  },
  {
   "cell_type": "code",
   "execution_count": 151,
   "id": "a8776b01",
   "metadata": {},
   "outputs": [],
   "source": [
    "data = np.array(data)\n",
    "m, n = data.shape\n",
    "\n",
    "np.random.shuffle(data)\n",
    "\n",
    "data_train = data[:33600]\n",
    "data_test = data[33600:]"
   ]
  },
  {
   "cell_type": "code",
   "execution_count": 152,
   "id": "804f9450",
   "metadata": {},
   "outputs": [
    {
     "name": "stdout",
     "output_type": "stream",
     "text": [
      "Each picture has 784 pixels\n",
      "\n",
      "There are 33600 images in the training set\n",
      "\n",
      "There are 8400 images in the test set\n"
     ]
    }
   ],
   "source": [
    "m, n = data.shape\n",
    "\n",
    "\n",
    "data_train_dev = data_train.T # So each column is an image\n",
    "labels_train = data_train_dev[0] # labels\n",
    "images_train = data_train_dev[1:n] / 255 # images \n",
    "# Note: dividing for 255 (max value a pixel can take) is key. We neew to turn the range 0 to 255 into a 0 to 1 range \n",
    "# in order to reduce the computational cost\n",
    "\n",
    "data_test_dev = data_test.T # So each column is an image\n",
    "labels_test = data_test_dev[0] # labels\n",
    "images_test = data_test_dev[1:n] / 255 # images\n",
    "\n",
    "print(f'Each picture has {images_train[:, 0].shape[0]} pixels')\n",
    "print(f'\\nThere are {images_train[0, :].shape[0]} images in the training set')\n",
    "print(f'\\nThere are {images_test[0, :].shape[0]} images in the test set')\n"
   ]
  },
  {
   "cell_type": "markdown",
   "id": "93d63a38",
   "metadata": {},
   "source": [
    "## Core functions "
   ]
  },
  {
   "cell_type": "code",
   "execution_count": 211,
   "id": "d11479d8",
   "metadata": {},
   "outputs": [],
   "source": [
    "# Initial parameters\n",
    "def init_params():\n",
    "    w1 = np.random.rand(10, 784) -0.5\n",
    "    b1 = np.random.rand(10, 1) -0.5\n",
    "    \n",
    "    w2 = np.random.rand(10, 10) -0.5\n",
    "    b2 = np.random.rand(10, 1) -0.5\n",
    "    \n",
    "    return(w1, b1, w2, b2 )\n",
    "\n",
    "\n",
    "# Activation functions\n",
    "ReLU = lambda x: np.maximum(x, 0)\n",
    "\n",
    "softmax = lambda x: np.exp(x) / sum(np.exp(x))\n",
    "\n",
    "der_ReLU = lambda x: x > 0\n",
    "\n",
    "                                    \n",
    "                                    \n",
    "def forward_prop(w1, b1, w2, b2, dat):\n",
    "    z1 =   w1.dot(dat) + b1\n",
    "    a1 = ReLU(z1)\n",
    "    \n",
    "    z2 = w2.dot(a1) + b2\n",
    "    a2 = softmax(z2)   \n",
    "    \n",
    "    return(z1, a1, z2, a2)\n",
    "\n",
    "def label_encoder(lab):\n",
    "    base = np.zeros((lab.size, 10), dtype='int64')\n",
    "    base[np.arange(lab.size, dtype='int64'), lab] = 1 \n",
    "    return base.T\n",
    "\n",
    "\n",
    "def back_prop(z1, a1, z2, a2, w2, dat, lab):\n",
    "    labels_e = label_encoder(lab)\n",
    "    dz2 = a2 - labels_e\n",
    "    dw2 = 1/lab.size * dz2.dot(a1.T)\n",
    "    db2 = 1/lab.size * np.sum(dz2)\n",
    "    dz1 = w2.T.dot(dz2) * der_ReLU(z1)\n",
    "    dw1 = 1/lab.size * dz1.dot(dat.T)\n",
    "    db1 = 1/lab.size * np.sum(dz1)\n",
    "    return(dw1, db1, dw2, db2)\n",
    "\n",
    "def update(alpha, w1, b1, w2, b2, dw1, db1, dw2, db2):\n",
    "    w1 = w1 -alpha * dw1\n",
    "    b1 = b1 -alpha * db1\n",
    "    \n",
    "    w2 = w2 -alpha * dw2\n",
    "    b2 = b2 -alpha * db2\n",
    "    \n",
    "    return (w1, b1, w2, b2)\n",
    "\n",
    "pred = lambda p_output: np.argmax(p_output, 0)\n",
    "accuracy = lambda out, lab: sum(pred(out) == lab) / lab.size\n",
    "\n",
    "def train(dat, lab, n_iter, alpha):\n",
    "    w1, b1, w2, b2 = init_params()\n",
    "\n",
    "    for i in range(n_iter+1):\n",
    "        z1, a1, z2, a2 = forward_prop(w1, b1, w2, b2, dat)\n",
    "       \n",
    "        dw1, db1, dw2, db2 = back_prop(z1, a1, z2, a2, w2, dat, lab)\n",
    "        \n",
    "        w1, b1, w2, b2 = update(alpha, w1, b1, w2, b2, dw1, db1, dw2, db2)\n",
    "        \n",
    "        if i % 50 == 0:\n",
    "            print(f'Iteration: {i}')\n",
    "            print(f'Accuracy: {accuracy(a2, lab)}')\n",
    "            \n",
    "    return w1, b1, w2, b2"
   ]
  },
  {
   "cell_type": "markdown",
   "id": "81779a5c",
   "metadata": {},
   "source": [
    "## Training"
   ]
  },
  {
   "cell_type": "code",
   "execution_count": 251,
   "id": "64afb803",
   "metadata": {},
   "outputs": [
    {
     "name": "stdout",
     "output_type": "stream",
     "text": [
      "Iteration: 0\n",
      "Accuracy: 0.06675595238095237\n",
      "Iteration: 50\n",
      "Accuracy: 0.5372619047619047\n",
      "Iteration: 100\n",
      "Accuracy: 0.7051190476190476\n",
      "Iteration: 150\n",
      "Accuracy: 0.7755059523809524\n",
      "Iteration: 200\n",
      "Accuracy: 0.8078273809523809\n",
      "Iteration: 250\n",
      "Accuracy: 0.8276190476190476\n",
      "Iteration: 300\n",
      "Accuracy: 0.8399702380952381\n",
      "Iteration: 350\n",
      "Accuracy: 0.8484821428571429\n",
      "Iteration: 400\n",
      "Accuracy: 0.8549404761904762\n",
      "Iteration: 450\n",
      "Accuracy: 0.8601488095238096\n",
      "Iteration: 500\n",
      "Accuracy: 0.8653571428571428\n",
      "Iteration: 550\n",
      "Accuracy: 0.8690476190476191\n",
      "Iteration: 600\n",
      "Accuracy: 0.8723511904761905\n",
      "Iteration: 650\n",
      "Accuracy: 0.8757440476190477\n",
      "Iteration: 700\n",
      "Accuracy: 0.8792261904761904\n",
      "Iteration: 750\n",
      "Accuracy: 0.8812202380952381\n",
      "Iteration: 800\n",
      "Accuracy: 0.8836309523809524\n",
      "Iteration: 850\n",
      "Accuracy: 0.885297619047619\n",
      "Iteration: 900\n",
      "Accuracy: 0.8871428571428571\n",
      "Iteration: 950\n",
      "Accuracy: 0.8892261904761904\n",
      "Iteration: 1000\n",
      "Accuracy: 0.8914583333333334\n"
     ]
    }
   ],
   "source": [
    "w1, b1, w2, b2 = train(images_train, labels_train, 1000, 0.15)"
   ]
  },
  {
   "cell_type": "markdown",
   "id": "fee561da",
   "metadata": {},
   "source": [
    "## Acurracy assessment with test set"
   ]
  },
  {
   "cell_type": "code",
   "execution_count": 262,
   "id": "6780b5e5",
   "metadata": {},
   "outputs": [],
   "source": [
    "def predict(w1, b1, w2, b2, dat):\n",
    "    \n",
    "    _,_,_,a2 = forward_prop(w1, b1, w2, b2, dat)\n",
    "    \n",
    "    prediction = pred(a2) \n",
    "    return(prediction)\n",
    "\n",
    "def test(w1, b1, w2, b2, ind, dat, lab):\n",
    "    \n",
    "    image = dat[:, ind,None]\n",
    "    label = lab[ind]\n",
    "    \n",
    "    prediction = predict(w1, b1, w2, b2, dat[:, ind,None])\n",
    "    \n",
    "    print(f'Label: {label}\\nPrediction: {prediction}')\n",
    "    \n",
    "    image = image.reshape((28,28))*255\n",
    "    plt.gray()\n",
    "    plt.imshow(image, interpolation='nearest')\n",
    "    plt.show()"
   ]
  },
  {
   "cell_type": "code",
   "execution_count": 263,
   "id": "a319c403",
   "metadata": {},
   "outputs": [
    {
     "name": "stdout",
     "output_type": "stream",
     "text": [
      "Accuracy with the test image set: 0.89\n"
     ]
    }
   ],
   "source": [
    "predictions_test = predict(w1,b1,w2,b2, images_test)\n",
    "\n",
    "print(f'Accuracy with the test image set: {round(sum(predictions_test == labels_test)/len(labels_test), 2)}')"
   ]
  },
  {
   "cell_type": "markdown",
   "id": "96b11ad0",
   "metadata": {},
   "source": [
    "Eventhought it is far from perfect, our number classification algorithm shows promisings results. Nearly 90% of accuracy with no signs of over-fitting. \n",
    "\n",
    "Future updates:\n",
    "\n",
    "    * Make a synthetic dataset including rotations, different number location, etc. This will help the model to classify                  numbers outside the MINST dataset.\n",
    "    \n",
    "    * Add more layers to turn it into a CNN. "
   ]
  },
  {
   "cell_type": "markdown",
   "id": "4c3cfc69",
   "metadata": {},
   "source": [
    "## Classification examples"
   ]
  },
  {
   "cell_type": "code",
   "execution_count": 265,
   "id": "a76942fd",
   "metadata": {},
   "outputs": [
    {
     "name": "stdout",
     "output_type": "stream",
     "text": [
      "Label: 3\n",
      "Prediction: [3]\n"
     ]
    },
    {
     "data": {
      "image/png": "[encoded data removed]",
      "text/plain": [
       "<Figure size 432x288 with 1 Axes>"
      ]
     },
     "metadata": {
      "needs_background": "light"
     },
     "output_type": "display_data"
    }
   ],
   "source": [
    "test(w1, b1, w2, b2, 0, images_test, labels_test)"
   ]
  },
  {
   "cell_type": "code",
   "execution_count": 266,
   "id": "0b42c3f3",
   "metadata": {},
   "outputs": [
    {
     "name": "stdout",
     "output_type": "stream",
     "text": [
      "Label: 2\n",
      "Prediction: [8]\n"
     ]
    },
    {
     "data": {
      "image/png": "[encoded data removed]",
      "text/plain": [
       "<Figure size 432x288 with 1 Axes>"
      ]
     },
     "metadata": {
      "needs_background": "light"
     },
     "output_type": "display_data"
    }
   ],
   "source": [
    "test(w1, b1, w2, b2, 1, images_test, labels_test)"
   ]
  },
  {
   "cell_type": "code",
   "execution_count": 267,
   "id": "3e255169",
   "metadata": {},
   "outputs": [
    {
     "name": "stdout",
     "output_type": "stream",
     "text": [
      "Label: 9\n",
      "Prediction: [8]\n"
     ]
    },
    {
     "data": {
      "image/png": "[encoded data removed]",
      "text/plain": [
       "<Figure size 432x288 with 1 Axes>"
      ]
     },
     "metadata": {
      "needs_background": "light"
     },
     "output_type": "display_data"
    }
   ],
   "source": [
    "test(w1, b1, w2, b2, 2, images_test, labels_test)"
   ]
  },
  {
   "cell_type": "code",
   "execution_count": 268,
   "id": "433a378f",
   "metadata": {},
   "outputs": [
    {
     "name": "stdout",
     "output_type": "stream",
     "text": [
      "Label: 5\n",
      "Prediction: [5]\n"
     ]
    },
    {
     "data": {
      "image/png": "[encoded data removed]",
      "text/plain": [
       "<Figure size 432x288 with 1 Axes>"
      ]
     },
     "metadata": {
      "needs_background": "light"
     },
     "output_type": "display_data"
    }
   ],
   "source": [
    "test(w1, b1, w2, b2, 3, images_test, labels_test)"
   ]
  },
  {
   "cell_type": "code",
   "execution_count": 269,
   "id": "64fae06f",
   "metadata": {},
   "outputs": [
    {
     "name": "stdout",
     "output_type": "stream",
     "text": [
      "Label: 1\n",
      "Prediction: [1]\n"
     ]
    },
    {
     "data": {
      "image/png": "[encoded data removed]",
      "text/plain": [
       "<Figure size 432x288 with 1 Axes>"
      ]
     },
     "metadata": {
      "needs_background": "light"
     },
     "output_type": "display_data"
    }
   ],
   "source": [
    "test(w1, b1, w2, b2, 4, images_test, labels_test)"
   ]
  },
  {
   "cell_type": "code",
   "execution_count": 270,
   "id": "c09da73a",
   "metadata": {},
   "outputs": [
    {
     "name": "stdout",
     "output_type": "stream",
     "text": [
      "Label: 4\n",
      "Prediction: [4]\n"
     ]
    },
    {
     "data": {
      "image/png": "[encoded data removed]",
      "text/plain": [
       "<Figure size 432x288 with 1 Axes>"
      ]
     },
     "metadata": {
      "needs_background": "light"
     },
     "output_type": "display_data"
    }
   ],
   "source": [
    "test(w1, b1, w2, b2, 5, images_test, labels_test)"
   ]
  },
  {
   "cell_type": "code",
   "execution_count": 275,
   "id": "1ccea001",
   "metadata": {},
   "outputs": [
    {
     "name": "stdout",
     "output_type": "stream",
     "text": [
      "Label: 8\n",
      "Prediction: [8]\n"
     ]
    },
    {
     "data": {
      "image/png": "[encoded data removed]",
      "text/plain": [
       "<Figure size 432x288 with 1 Axes>"
      ]
     },
     "metadata": {
      "needs_background": "light"
     },
     "output_type": "display_data"
    }
   ],
   "source": [
    "test(w1, b1, w2, b2, 40, images_test, labels_test)"
   ]
  },
  {
   "cell_type": "code",
   "execution_count": 276,
   "id": "c29c4f3c",
   "metadata": {},
   "outputs": [
    {
     "name": "stdout",
     "output_type": "stream",
     "text": [
      "Label: 8\n",
      "Prediction: [8]\n"
     ]
    },
    {
     "data": {
      "image/png": "[encoded data removed]",
      "text/plain": [
       "<Figure size 432x288 with 1 Axes>"
      ]
     },
     "metadata": {
      "needs_background": "light"
     },
     "output_type": "display_data"
    }
   ],
   "source": [
    "test(w1, b1, w2, b2, 100, images_test, labels_test)"
   ]
  },
  {
   "cell_type": "code",
   "execution_count": 277,
   "id": "bc8c041b",
   "metadata": {},
   "outputs": [
    {
     "name": "stdout",
     "output_type": "stream",
     "text": [
      "Label: 7\n",
      "Prediction: [7]\n"
     ]
    },
    {
     "data": {
      "image/png": "[encoded data removed]",
      "text/plain": [
       "<Figure size 432x288 with 1 Axes>"
      ]
     },
     "metadata": {
      "needs_background": "light"
     },
     "output_type": "display_data"
    }
   ],
   "source": [
    "test(w1, b1, w2, b2, 111, images_test, labels_test)"
   ]
  },
  {
   "cell_type": "code",
   "execution_count": null,
   "id": "defecef3",
   "metadata": {},
   "outputs": [],
   "source": []
  }
 ],
 "metadata": {
  "kernelspec": {
   "display_name": "Python 3 (ipykernel)",
   "language": "python",
   "name": "python3"
  },
  "language_info": {
   "codemirror_mode": {
    "name": "ipython",
    "version": 3
   },
   "file_extension": ".py",
   "mimetype": "text/x-python",
   "name": "python",
   "nbconvert_exporter": "python",
   "pygments_lexer": "ipython3",
   "version": "3.9.10"
  }
 },
 "nbformat": 4,
 "nbformat_minor": 5
}
